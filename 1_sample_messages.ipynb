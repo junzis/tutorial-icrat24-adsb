{
  "cells": [
    {
      "cell_type": "markdown",
      "metadata": {
        "id": "6wVlGMqIa-sl"
      },
      "source": [
        "# ADS-B Tutorial"
      ]
    },
    {
      "cell_type": "markdown",
      "metadata": {
        "id": "0XX1tZBubd2X"
      },
      "source": [
        "## Install pyModeS\n",
        "\n",
        "First, we will install pyModeS in this Python environment\n"
      ]
    },
    {
      "cell_type": "code",
      "execution_count": null,
      "metadata": {
        "colab": {
          "base_uri": "https://localhost:8080/"
        },
        "id": "Gb7gisrca5Du",
        "outputId": "3a00f59a-3b7a-45ef-d44e-a7a5e8472551"
      },
      "outputs": [],
      "source": [
        "!pip install pyModeS"
      ]
    },
    {
      "cell_type": "code",
      "execution_count": null,
      "metadata": {},
      "outputs": [],
      "source": [
        "import pyModeS as pyms"
      ]
    },
    {
      "cell_type": "markdown",
      "metadata": {
        "id": "P1zTzBQ6KNSb"
      },
      "source": [
        "## You task is to decode the following messages"
      ]
    },
    {
      "cell_type": "code",
      "execution_count": null,
      "metadata": {
        "id": "xJ3BYQvhbTDt"
      },
      "outputs": [],
      "source": [
        "msg1 = \"8D406B902015A678D4D220AA4BDA\"\n",
        "msg2 = \"8D485020994409940838175B284F\"\n",
        "msg3 = \"8D40058B58C901375147EFD09357\"\n",
        "msg4 = \"8D40058B58C904A87F402D3B8C59\""
      ]
    },
    {
      "cell_type": "markdown",
      "metadata": {
        "id": "Tku1xLejbvt3"
      },
      "source": [
        "## Task 1: Determine the icao transponders codes and type codes of these messages\n",
        "\n",
        "Can you tell which information in encoded in each message?\n"
      ]
    },
    {
      "cell_type": "code",
      "execution_count": null,
      "metadata": {
        "id": "DL-8mLABJuVl"
      },
      "outputs": [],
      "source": [
        "# type and run your code below\n",
        "\n",
        "for msg in [msg1, msg2, msg3, msg4]:\n",
        "    print(msg, pyms.adsb.icao(msg), pyms.adsb.tc(msg))\n",
        "\n"
      ]
    },
    {
      "cell_type": "markdown",
      "metadata": {
        "id": "xmp1CbHyJ3mp"
      },
      "source": [
        "## Task 2: Decode the content of the msg1"
      ]
    },
    {
      "cell_type": "code",
      "execution_count": null,
      "metadata": {
        "id": "kMamxVfGKzhA"
      },
      "outputs": [],
      "source": [
        "# type and run your code below\n",
        "\n",
        "pyms.decoder.tell(msg1)\n"
      ]
    },
    {
      "cell_type": "markdown",
      "metadata": {
        "id": "UwyDzffVK88g"
      },
      "source": [
        "## Task 3: Decode the content of msg2"
      ]
    },
    {
      "cell_type": "code",
      "execution_count": null,
      "metadata": {
        "id": "axzQxulELKUm"
      },
      "outputs": [],
      "source": [
        "# type and run your code below\n",
        "\n",
        "pyms.decoder.tell(msg2)\n",
        "\n"
      ]
    },
    {
      "cell_type": "markdown",
      "metadata": {
        "id": "c9LpQ4t2LRiF"
      },
      "source": [
        "## Task 4: Decode the postion with messages msg3 and msg4\n",
        "\n",
        "assuming the timestamps for msg3 and msg4 are 1446332405 and 1446332400"
      ]
    },
    {
      "cell_type": "code",
      "execution_count": null,
      "metadata": {
        "id": "KMFRNg-ALln0"
      },
      "outputs": [],
      "source": [
        "display(pyms.decoder.tell(msg3))\n",
        "display(pyms.decoder.tell(msg4))\n",
        "\n",
        "pyms.adsb.position(msg1, msg2, 1446332405, 1446332400)"
      ]
    }
  ],
  "metadata": {
    "colab": {
      "provenance": []
    },
    "kernelspec": {
      "display_name": "Python 3",
      "name": "python3"
    },
    "language_info": {
      "name": "python"
    }
  },
  "nbformat": 4,
  "nbformat_minor": 0
}
