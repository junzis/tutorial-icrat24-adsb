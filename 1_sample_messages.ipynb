{
  "cells": [
    {
      "cell_type": "markdown",
      "metadata": {
        "id": "6wVlGMqIa-sl"
      },
      "source": [
        "# ADS-B Tutorial"
      ]
    },
    {
      "cell_type": "markdown",
      "metadata": {
        "id": "0XX1tZBubd2X"
      },
      "source": [
        "## Install pyModeS\n",
        "\n",
        "First, we will install pyModeS in this Python environment\n"
      ]
    },
    {
      "cell_type": "code",
      "execution_count": null,
      "metadata": {
        "colab": {
          "base_uri": "https://localhost:8080/"
        },
        "id": "Gb7gisrca5Du",
        "outputId": "3a00f59a-3b7a-45ef-d44e-a7a5e8472551"
      },
      "outputs": [],
      "source": [
        "!pip install pyModeS"
      ]
    },
    {
      "cell_type": "code",
      "execution_count": 2,
      "metadata": {},
      "outputs": [],
      "source": [
        "import pyModeS as pyms"
      ]
    },
    {
      "cell_type": "markdown",
      "metadata": {
        "id": "P1zTzBQ6KNSb"
      },
      "source": [
        "## You task is to decode the following messages"
      ]
    },
    {
      "cell_type": "code",
      "execution_count": 3,
      "metadata": {
        "id": "xJ3BYQvhbTDt"
      },
      "outputs": [],
      "source": [
        "msg1 = \"8D406B902015A678D4D220AA4BDA\"\n",
        "msg2 = \"8D485020994409940838175B284F\"\n",
        "msg3 = \"8D40058B58C901375147EFD09357\"\n",
        "msg4 = \"8D40058B58C904A87F402D3B8C59\""
      ]
    },
    {
      "cell_type": "markdown",
      "metadata": {
        "id": "Tku1xLejbvt3"
      },
      "source": [
        "## Task 1: Determine the icao transponders codes and type codes of these messages\n",
        "\n",
        "Can you tell which information in encoded in each message?\n"
      ]
    },
    {
      "cell_type": "code",
      "execution_count": 4,
      "metadata": {
        "id": "DL-8mLABJuVl"
      },
      "outputs": [
        {
          "name": "stdout",
          "output_type": "stream",
          "text": [
            "8D406B902015A678D4D220AA4BDA 406B90 4\n",
            "8D485020994409940838175B284F 485020 19\n",
            "8D40058B58C901375147EFD09357 40058B 11\n",
            "8D40058B58C904A87F402D3B8C59 40058B 11\n"
          ]
        }
      ],
      "source": [
        "# type and run your code below\n",
        "\n",
        "for msg in [msg1, msg2, msg3, msg4]:\n",
        "    print(msg, pyms.adsb.icao(msg), pyms.adsb.typecode(msg))\n",
        "\n"
      ]
    },
    {
      "cell_type": "markdown",
      "metadata": {
        "id": "xmp1CbHyJ3mp"
      },
      "source": [
        "## Task 2: Decode the content of the msg1"
      ]
    },
    {
      "cell_type": "code",
      "execution_count": 5,
      "metadata": {
        "id": "kMamxVfGKzhA"
      },
      "outputs": [
        {
          "name": "stdout",
          "output_type": "stream",
          "text": [
            "                     Message: 8D406B902015A678D4D220AA4BDA \n",
            "                ICAO address: 406B90 \n",
            "             Downlink Format: 17 \n",
            "                    Protocol: Mode-S Extended Squitter (ADS-B) \n",
            "                        Type: Identification and category \n",
            "                   Callsign:: EZY85MH_ \n"
          ]
        }
      ],
      "source": [
        "# type and run your code below\n",
        "\n",
        "pyms.decoder.tell(msg1)\n"
      ]
    },
    {
      "cell_type": "markdown",
      "metadata": {},
      "source": [
        "Manually decode the content of the message 1"
      ]
    },
    {
      "cell_type": "code",
      "execution_count": 6,
      "metadata": {},
      "outputs": [
        {
          "data": {
            "text/plain": [
              "'EZY85MH_'"
            ]
          },
          "execution_count": 6,
          "metadata": {},
          "output_type": "execute_result"
        }
      ],
      "source": [
        "pyms.adsb.callsign(msg1)"
      ]
    },
    {
      "cell_type": "markdown",
      "metadata": {
        "id": "UwyDzffVK88g"
      },
      "source": [
        "## Task 3: Decode the content of msg2"
      ]
    },
    {
      "cell_type": "code",
      "execution_count": 7,
      "metadata": {
        "id": "axzQxulELKUm"
      },
      "outputs": [
        {
          "name": "stdout",
          "output_type": "stream",
          "text": [
            "                     Message: 8D485020994409940838175B284F \n",
            "                ICAO address: 485020 \n",
            "             Downlink Format: 17 \n",
            "                    Protocol: Mode-S Extended Squitter (ADS-B) \n",
            "                        Type: Airborne velocity \n",
            "                       Speed: 159 knots\n",
            "                       Track: 182.8803775528476 degrees\n",
            "               Vertical rate: -832 feet/minute\n",
            "                        Type: Ground speed \n"
          ]
        }
      ],
      "source": [
        "# type and run your code below\n",
        "\n",
        "pyms.decoder.tell(msg2)\n",
        "\n"
      ]
    },
    {
      "cell_type": "markdown",
      "metadata": {},
      "source": [
        "Manually decode the content of the message 2"
      ]
    },
    {
      "cell_type": "code",
      "execution_count": 8,
      "metadata": {},
      "outputs": [
        {
          "data": {
            "text/plain": [
              "(159, 182.8803775528476, -832, 'GS')"
            ]
          },
          "execution_count": 8,
          "metadata": {},
          "output_type": "execute_result"
        }
      ],
      "source": [
        "pyms.adsb.velocity(msg2)"
      ]
    },
    {
      "cell_type": "markdown",
      "metadata": {
        "id": "c9LpQ4t2LRiF"
      },
      "source": [
        "## Task 4: Decode the postion with messages msg3 and msg4\n",
        "\n",
        "assuming the timestamps for msg3 and msg4 are 1446332405 and 1446332400"
      ]
    },
    {
      "cell_type": "code",
      "execution_count": 9,
      "metadata": {
        "id": "KMFRNg-ALln0"
      },
      "outputs": [
        {
          "name": "stdout",
          "output_type": "stream",
          "text": [
            "                     Message: 8D40058B58C901375147EFD09357 \n",
            "                ICAO address: 40058B \n",
            "             Downlink Format: 17 \n",
            "                    Protocol: Mode-S Extended Squitter (ADS-B) \n",
            "                        Type: Airborne position (with barometric altitude) \n",
            "                  CPR format: Even \n",
            "                CPR Latitude: 0.30401611328125 \n",
            "               CPR Longitude: 0.6404953002929688 \n",
            "                    Altitude: 39000 feet\n",
            "\n",
            "                     Message: 8D40058B58C904A87F402D3B8C59 \n",
            "                ICAO address: 40058B \n",
            "             Downlink Format: 17 \n",
            "                    Protocol: Mode-S Extended Squitter (ADS-B) \n",
            "                        Type: Airborne position (with barometric altitude) \n",
            "                  CPR format: Odd \n",
            "                CPR Latitude: 0.16454315185546875 \n",
            "               CPR Longitude: 0.6253433227539062 \n",
            "                    Altitude: 39000 feet\n"
          ]
        }
      ],
      "source": [
        "pyms.decoder.tell(msg3)\n",
        "print()\n",
        "pyms.decoder.tell(msg4)\n"
      ]
    },
    {
      "cell_type": "markdown",
      "metadata": {},
      "source": [
        "Decode the position using the odd and even frames"
      ]
    },
    {
      "cell_type": "code",
      "execution_count": 10,
      "metadata": {},
      "outputs": [
        {
          "data": {
            "text/plain": [
              "(49.8240966796875, 6.067850213301809)"
            ]
          },
          "execution_count": 10,
          "metadata": {},
          "output_type": "execute_result"
        }
      ],
      "source": [
        "pyms.adsb.position(msg3, msg4, 1446332405, 1446332400)"
      ]
    }
  ],
  "metadata": {
    "colab": {
      "provenance": []
    },
    "kernelspec": {
      "display_name": "Python 3",
      "name": "python3"
    },
    "language_info": {
      "codemirror_mode": {
        "name": "ipython",
        "version": 3
      },
      "file_extension": ".py",
      "mimetype": "text/x-python",
      "name": "python",
      "nbconvert_exporter": "python",
      "pygments_lexer": "ipython3",
      "version": "3.11.9"
    }
  },
  "nbformat": 4,
  "nbformat_minor": 0
}
