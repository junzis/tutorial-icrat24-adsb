{
 "cells": [
  {
   "cell_type": "code",
   "execution_count": null,
   "metadata": {},
   "outputs": [],
   "source": [
    "!pip install pyModeS pandas matplotlib"
   ]
  },
  {
   "cell_type": "code",
   "execution_count": null,
   "metadata": {
    "collapsed": true,
    "jupyter": {
     "outputs_hidden": true
    }
   },
   "outputs": [],
   "source": [
    "import pyModeS as pyms\n",
    "import pandas as pd\n",
    "import matplotlib.pyplot as plt"
   ]
  },
  {
   "cell_type": "markdown",
   "metadata": {},
   "source": [
    "# Let's load some sample data."
   ]
  },
  {
   "cell_type": "code",
   "execution_count": null,
   "metadata": {},
   "outputs": [],
   "source": [
    "data = pd.read_csv(\"https://github.com/junzis/tutorial-icrat24-adsb/raw/main/data/samples.csv\", names=[\"timestamp\", \"message\"])\n",
    "\n",
    "data"
   ]
  },
  {
   "cell_type": "markdown",
   "metadata": {},
   "source": [
    "## Which aircraft broadcasted these messages?\n",
    "We need to indentify the transponder address."
   ]
  },
  {
   "cell_type": "code",
   "execution_count": null,
   "metadata": {},
   "outputs": [],
   "source": [
    "data[\"icao\"] = data.message.apply(pyms.icao)\n",
    "\n",
    "data"
   ]
  },
  {
   "cell_type": "markdown",
   "metadata": {},
   "source": [
    "## What kind of messages are we looking at?"
   ]
  },
  {
   "cell_type": "code",
   "execution_count": null,
   "metadata": {},
   "outputs": [],
   "source": [
    "# Compute the Downlink Format\n",
    "data[\"DF\"] = data.message.apply(pyms.df)\n",
    "\n",
    "data"
   ]
  },
  {
   "cell_type": "markdown",
   "metadata": {},
   "source": [
    "Recall the downlink format\n",
    "```\n",
    "DF 0: Short air-air surveillance\n",
    "DF 4: Surveillance, altitude reply\n",
    "DF 5: Surveillance, identity reply\n",
    "DF 11: All call reply\n",
    "DF 16: Long air-air surveillance\n",
    "DF 17: Extended squitter\n",
    "DF 18: Extended squitter/non transponder\n",
    "DF 19: Military extended squitter\n",
    "DF 20: Comm-B, altitude reply\n",
    "DF 21: Comm-B, identity reply\n",
    "DF 24: Comm-D (Extended Length Message)\n",
    "```"
   ]
  },
  {
   "cell_type": "code",
   "execution_count": null,
   "metadata": {},
   "outputs": [],
   "source": [
    "# Analyze the distributions of downlink format among messages\n",
    "data.groupby(\"DF\").size().plot(kind=\"pie\")\n",
    "plt.show()"
   ]
  },
  {
   "cell_type": "markdown",
   "metadata": {
    "toc-hr-collapsed": false
   },
   "source": [
    "---\n",
    "# Work with different types of ADS-B messages"
   ]
  },
  {
   "cell_type": "markdown",
   "metadata": {},
   "source": [
    "## Filter out all the ADS-B messages"
   ]
  },
  {
   "cell_type": "code",
   "execution_count": null,
   "metadata": {},
   "outputs": [],
   "source": [
    "adsb = data[data.DF == 17].copy()\n",
    "\n",
    "adsb"
   ]
  },
  {
   "cell_type": "markdown",
   "metadata": {},
   "source": [
    "## What do these ADS-B message tell us?\n",
    "We need to find out the **Type Code** of the messages, recall that:\n",
    "```\n",
    "TC=1-4:    Identity message\n",
    "TC=5-8:    Surface movement message\n",
    "TC=9-18:   Airborn position message (with barometric altitude)\n",
    "TC=19:     Airborne velocity message\n",
    "TC=20-22:  Airborn position message (with GNSS altitude)\n",
    "```"
   ]
  },
  {
   "cell_type": "code",
   "execution_count": null,
   "metadata": {},
   "outputs": [],
   "source": [
    "adsb[\"TC\"] = adsb.message.apply(pyms.adsb.typecode)\n",
    "\n",
    "adsb.head(20)"
   ]
  },
  {
   "cell_type": "code",
   "execution_count": null,
   "metadata": {},
   "outputs": [],
   "source": [
    "adsb.groupby(\"TC\").size().plot(kind=\"pie\")\n",
    "plt.show()"
   ]
  },
  {
   "cell_type": "markdown",
   "metadata": {},
   "source": [
    "---\n",
    "## Aircraft indentity\n",
    "Let's take a look at the following identity message:\n",
    "```\n",
    "              timestamp                       message    icao  DF  TC\n",
    "104 1568017740.09914660  8D4C01E420053332C1A8207D484C  4C01E4  17   4\n",
    "```"
   ]
  },
  {
   "cell_type": "code",
   "execution_count": null,
   "metadata": {},
   "outputs": [],
   "source": [
    "pyms.adsb.callsign(\"8D4C01E420053332C1A8207D484C\")"
   ]
  },
  {
   "cell_type": "markdown",
   "metadata": {},
   "source": [
    "---\n",
    "## Aircraft velocity (airborne)\n",
    "Let's take a look at the following airborne velocity message:\n",
    "```\n",
    "              timestamp                       message    icao  DF  TC\n",
    "15  1568017732.67249036  8D4C01E499440793008802D2D79C  4C01E4  17  19\n",
    "```"
   ]
  },
  {
   "cell_type": "code",
   "execution_count": null,
   "metadata": {},
   "outputs": [],
   "source": [
    "pyms.adsb.velocity(\"8D4C01E499440793008802D2D79C\")\n",
    "\n",
    "# speed (kt), heading (degree), vertical rate (fpm), 'GS'or'TAS'"
   ]
  },
  {
   "cell_type": "markdown",
   "metadata": {},
   "source": [
    "---\n",
    "## Aircraft position (airborne)\n",
    "There two ways to decode aircraft messages:\n",
    "1. Decode with **two messages** (odd and even position frame)\n",
    "2. Decode with **one message with a reference position** (once aircraft is lock through 1)"
   ]
  },
  {
   "cell_type": "code",
   "execution_count": null,
   "metadata": {},
   "outputs": [],
   "source": [
    "# compute the \"odd/even\" indicator\n",
    "positions = adsb[adsb.TC.between(5, 18)].copy()\n",
    "positions[\"oe\"] = positions.message.apply(pyms.adsb.oe_flag)\n",
    "positions.head(15)"
   ]
  },
  {
   "cell_type": "markdown",
   "metadata": {},
   "source": [
    "### Decoding with two messages (globally unambiguous position)\n",
    "```\n",
    "              timestamp                       message    icao  DF  TC  oe\n",
    "9   1568017731.14865947  8D4C01E45805B649D8EDDF517B23  4C01E4  17  11   1\n",
    "13  1568017732.07376266  8D4C01E45805C2DE80F4AAF961B3  4C01E4  17  11   0\n",
    "```"
   ]
  },
  {
   "cell_type": "code",
   "execution_count": null,
   "metadata": {},
   "outputs": [],
   "source": [
    "pyms.adsb.position(\n",
    "    \"8D4C01E45805C2DE80F4AAF961B3\",\n",
    "    \"8D4C01E45805B649D8EDDF517B23\",\n",
    "    1568017732,\n",
    "    1568017731,\n",
    ")\n",
    "# latutude, longitude"
   ]
  },
  {
   "cell_type": "markdown",
   "metadata": {},
   "source": [
    "### Decoding with one message (locally unambiguous position)\n",
    "```\n",
    "              timestamp                       message    icao  DF  TC  oe\n",
    "20  1568017733.05163741  8D4C01E45805E6499CEDDEE1391C  4C01E4  17  11   1\n",
    "```\n",
    "Considering position (-51.71628, -2.55447) from previous example"
   ]
  },
  {
   "cell_type": "code",
   "execution_count": null,
   "metadata": {},
   "outputs": [],
   "source": [
    "pyms.adsb.position_with_ref(\"8D4C01E45805E6499CEDDEE1391C\", 52.30371, 4.77859)\n",
    "# latutude, longitude"
   ]
  },
  {
   "cell_type": "markdown",
   "metadata": {},
   "source": [
    "---\n",
    "# Decode all positions and velocities"
   ]
  },
  {
   "cell_type": "code",
   "execution_count": null,
   "metadata": {},
   "outputs": [],
   "source": [
    "positions = []\n",
    "velocities = []\n",
    "\n",
    "\n",
    "lat, lon = (52.30302, 4.77858)\n",
    "for idx, row in adsb[adsb.TC.between(5, 18)].iterrows():\n",
    "    lat, lon = pyms.adsb.position_with_ref(row.message, lat_ref=lat, lon_ref=lon)\n",
    "    alt = pyms.adsb.altitude(row.message)\n",
    "    positions.append((row.timestamp, lat, lon, alt))\n",
    "\n",
    "for idx, row in adsb[adsb.TC == 19].iterrows():\n",
    "    spd, trk, vs, label = pyms.adsb.velocity(row.message)\n",
    "    velocities.append((row.timestamp, spd, trk, vs))"
   ]
  },
  {
   "cell_type": "code",
   "execution_count": null,
   "metadata": {},
   "outputs": [],
   "source": [
    "t1, lat, lon, alt = zip(*positions)\n",
    "t2, spd, trk, vs = zip(*velocities)"
   ]
  },
  {
   "cell_type": "markdown",
   "metadata": {},
   "source": [
    "Next, we will visualize all the positions, velocities, and altitudes from the decoded messages."
   ]
  },
  {
   "cell_type": "code",
   "execution_count": null,
   "metadata": {},
   "outputs": [],
   "source": [
    "fig, (ax1, ax2, ax3) = plt.subplots(1, 3, figsize=(12, 4))\n",
    "\n",
    "ax1.scatter(lon, lat, marker=\".\", lw=0)\n",
    "ax1.set_xlabel(\"longitude\")\n",
    "ax1.set_ylabel(\"latitude\")\n",
    "\n",
    "ax2.scatter(t1, alt, marker=\".\", lw=0)\n",
    "ax2.set_xlabel(\"time\")\n",
    "ax2.set_ylabel(\"altitude (ft)\")\n",
    "\n",
    "ax3.scatter(t2, spd, marker=\".\", lw=0)\n",
    "ax2.set_xlabel(\"time\")\n",
    "ax3.set_ylabel(\"speed (kt)\")\n",
    "\n",
    "plt.tight_layout()\n",
    "plt.show()"
   ]
  }
 ],
 "metadata": {
  "kernelspec": {
   "display_name": "Python 3",
   "language": "python",
   "name": "python3"
  },
  "language_info": {
   "codemirror_mode": {
    "name": "ipython",
    "version": 3
   },
   "file_extension": ".py",
   "mimetype": "text/x-python",
   "name": "python",
   "nbconvert_exporter": "python",
   "pygments_lexer": "ipython3",
   "version": "3.11.9"
  },
  "toc-autonumbering": true,
  "toc-showmarkdowntxt": false
 },
 "nbformat": 4,
 "nbformat_minor": 4
}
